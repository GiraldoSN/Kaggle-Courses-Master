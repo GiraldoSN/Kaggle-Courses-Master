{
 "cells": [
  {
   "cell_type": "markdown",
   "id": "ac5aea9a",
   "metadata": {
    "papermill": {
     "duration": 0.004793,
     "end_time": "2024-07-09T03:37:34.089093",
     "exception": false,
     "start_time": "2024-07-09T03:37:34.084300",
     "status": "completed"
    },
    "tags": []
   },
   "source": [
    "**This notebook is an exercise in the [Advanced SQL](https://www.kaggle.com/learn/advanced-sql) course.  You can reference the tutorial at [this link](https://www.kaggle.com/alexisbcook/analytic-functions).**\n",
    "\n",
    "---\n"
   ]
  },
  {
   "cell_type": "markdown",
   "id": "69d2ec7b",
   "metadata": {
    "papermill": {
     "duration": 0.004039,
     "end_time": "2024-07-09T03:37:34.097774",
     "exception": false,
     "start_time": "2024-07-09T03:37:34.093735",
     "status": "completed"
    },
    "tags": []
   },
   "source": [
    "# Introduction\n",
    "\n",
    "Here, you'll use window functions to answer questions about the [Chicago Taxi Trips](https://www.kaggle.com/chicago/chicago-taxi-trips-bq) dataset.\n",
    "\n",
    "Before you get started, run the code cell below to set everything up."
   ]
  },
  {
   "cell_type": "code",
   "execution_count": 1,
   "id": "71b7b4c1",
   "metadata": {
    "execution": {
     "iopub.execute_input": "2024-07-09T03:37:34.108276Z",
     "iopub.status.busy": "2024-07-09T03:37:34.107798Z",
     "iopub.status.idle": "2024-07-09T03:37:53.250622Z",
     "shell.execute_reply": "2024-07-09T03:37:53.249217Z"
    },
    "papermill": {
     "duration": 19.151306,
     "end_time": "2024-07-09T03:37:53.253476",
     "exception": false,
     "start_time": "2024-07-09T03:37:34.102170",
     "status": "completed"
    },
    "tags": []
   },
   "outputs": [
    {
     "name": "stdout",
     "output_type": "stream",
     "text": [
      "Using Kaggle's public dataset BigQuery integration.\n",
      "Setup Complete\n"
     ]
    }
   ],
   "source": [
    "# Set up feedback system\n",
    "from learntools.core import binder\n",
    "binder.bind(globals())\n",
    "from learntools.sql_advanced.ex2 import *\n",
    "print(\"Setup Complete\")"
   ]
  },
  {
   "cell_type": "markdown",
   "id": "825c9850",
   "metadata": {
    "papermill": {
     "duration": 0.00397,
     "end_time": "2024-07-09T03:37:53.261901",
     "exception": false,
     "start_time": "2024-07-09T03:37:53.257931",
     "status": "completed"
    },
    "tags": []
   },
   "source": [
    "The following code cell fetches the `taxi_trips` table from the `chicago_taxi_trips` dataset. We also preview the first five rows of the table.  You'll use the table to answer the questions below."
   ]
  },
  {
   "cell_type": "code",
   "execution_count": 2,
   "id": "46820c5e",
   "metadata": {
    "execution": {
     "iopub.execute_input": "2024-07-09T03:37:53.272183Z",
     "iopub.status.busy": "2024-07-09T03:37:53.271616Z",
     "iopub.status.idle": "2024-07-09T03:37:54.598465Z",
     "shell.execute_reply": "2024-07-09T03:37:54.597282Z"
    },
    "papermill": {
     "duration": 1.334777,
     "end_time": "2024-07-09T03:37:54.600941",
     "exception": false,
     "start_time": "2024-07-09T03:37:53.266164",
     "status": "completed"
    },
    "tags": []
   },
   "outputs": [
    {
     "name": "stdout",
     "output_type": "stream",
     "text": [
      "Using Kaggle's public dataset BigQuery integration.\n"
     ]
    },
    {
     "data": {
      "text/html": [
       "<div>\n",
       "<style scoped>\n",
       "    .dataframe tbody tr th:only-of-type {\n",
       "        vertical-align: middle;\n",
       "    }\n",
       "\n",
       "    .dataframe tbody tr th {\n",
       "        vertical-align: top;\n",
       "    }\n",
       "\n",
       "    .dataframe thead th {\n",
       "        text-align: right;\n",
       "    }\n",
       "</style>\n",
       "<table border=\"1\" class=\"dataframe\">\n",
       "  <thead>\n",
       "    <tr style=\"text-align: right;\">\n",
       "      <th></th>\n",
       "      <th>unique_key</th>\n",
       "      <th>taxi_id</th>\n",
       "      <th>trip_start_timestamp</th>\n",
       "      <th>trip_end_timestamp</th>\n",
       "      <th>trip_seconds</th>\n",
       "      <th>trip_miles</th>\n",
       "      <th>pickup_census_tract</th>\n",
       "      <th>dropoff_census_tract</th>\n",
       "      <th>pickup_community_area</th>\n",
       "      <th>dropoff_community_area</th>\n",
       "      <th>...</th>\n",
       "      <th>extras</th>\n",
       "      <th>trip_total</th>\n",
       "      <th>payment_type</th>\n",
       "      <th>company</th>\n",
       "      <th>pickup_latitude</th>\n",
       "      <th>pickup_longitude</th>\n",
       "      <th>pickup_location</th>\n",
       "      <th>dropoff_latitude</th>\n",
       "      <th>dropoff_longitude</th>\n",
       "      <th>dropoff_location</th>\n",
       "    </tr>\n",
       "  </thead>\n",
       "  <tbody>\n",
       "    <tr>\n",
       "      <th>0</th>\n",
       "      <td>ca2943325bb86524ccb494a82c4361e2e59d94b9</td>\n",
       "      <td>4ab868a2a19b95f50f355eb8d0d7638f1912b37f49ebd6...</td>\n",
       "      <td>2013-04-14 14:45:00+00:00</td>\n",
       "      <td>2013-04-14 15:00:00+00:00</td>\n",
       "      <td>660</td>\n",
       "      <td>0.0</td>\n",
       "      <td>NaN</td>\n",
       "      <td>NaN</td>\n",
       "      <td>14</td>\n",
       "      <td>14</td>\n",
       "      <td>...</td>\n",
       "      <td>0.0</td>\n",
       "      <td>6.85</td>\n",
       "      <td>Cash</td>\n",
       "      <td>Blue Ribbon Taxi Association Inc.</td>\n",
       "      <td>41.968069</td>\n",
       "      <td>-87.721559</td>\n",
       "      <td>POINT (-87.7215590627 41.968069)</td>\n",
       "      <td>41.968069</td>\n",
       "      <td>-87.721559</td>\n",
       "      <td>POINT (-87.7215590627 41.968069)</td>\n",
       "    </tr>\n",
       "    <tr>\n",
       "      <th>1</th>\n",
       "      <td>65772aeff3599d099f040068b9b7cd4491aea5b6</td>\n",
       "      <td>6682944f2b37609761181033253037c05fed4377e8b649...</td>\n",
       "      <td>2013-05-12 20:15:00+00:00</td>\n",
       "      <td>2013-05-12 20:30:00+00:00</td>\n",
       "      <td>240</td>\n",
       "      <td>0.9</td>\n",
       "      <td>NaN</td>\n",
       "      <td>NaN</td>\n",
       "      <td>41</td>\n",
       "      <td>41</td>\n",
       "      <td>...</td>\n",
       "      <td>1.0</td>\n",
       "      <td>6.05</td>\n",
       "      <td>Cash</td>\n",
       "      <td>Northwest Management LLC</td>\n",
       "      <td>41.794090</td>\n",
       "      <td>-87.592311</td>\n",
       "      <td>POINT (-87.592310855 41.794090253)</td>\n",
       "      <td>41.794090</td>\n",
       "      <td>-87.592311</td>\n",
       "      <td>POINT (-87.592310855 41.794090253)</td>\n",
       "    </tr>\n",
       "    <tr>\n",
       "      <th>2</th>\n",
       "      <td>be9aee48bd3bc2e919ad76956c94e0bc420366f1</td>\n",
       "      <td>af5b394cb22984f667fc0a9cc30e0277cb9edf50f14747...</td>\n",
       "      <td>2013-04-17 01:45:00+00:00</td>\n",
       "      <td>2013-04-17 02:00:00+00:00</td>\n",
       "      <td>780</td>\n",
       "      <td>0.0</td>\n",
       "      <td>1.703184e+10</td>\n",
       "      <td>1.703124e+10</td>\n",
       "      <td>28</td>\n",
       "      <td>24</td>\n",
       "      <td>...</td>\n",
       "      <td>1.5</td>\n",
       "      <td>12.95</td>\n",
       "      <td>Cash</td>\n",
       "      <td>Dispatch Taxi Affiliation</td>\n",
       "      <td>41.867902</td>\n",
       "      <td>-87.642959</td>\n",
       "      <td>POINT (-87.6429586652 41.8679024175)</td>\n",
       "      <td>41.906026</td>\n",
       "      <td>-87.675312</td>\n",
       "      <td>POINT (-87.6753116216 41.906025969)</td>\n",
       "    </tr>\n",
       "    <tr>\n",
       "      <th>3</th>\n",
       "      <td>e1a250fcf325056fd51fe87e655f2ee15acd4599</td>\n",
       "      <td>4de82fc17cb23f745931085fbbb3b4f920550cda576979...</td>\n",
       "      <td>2013-04-14 14:30:00+00:00</td>\n",
       "      <td>2013-04-14 14:45:00+00:00</td>\n",
       "      <td>360</td>\n",
       "      <td>1.2</td>\n",
       "      <td>1.703107e+10</td>\n",
       "      <td>1.703183e+10</td>\n",
       "      <td>7</td>\n",
       "      <td>6</td>\n",
       "      <td>...</td>\n",
       "      <td>0.0</td>\n",
       "      <td>6.05</td>\n",
       "      <td>Cash</td>\n",
       "      <td>Dispatch Taxi Affiliation</td>\n",
       "      <td>41.930579</td>\n",
       "      <td>-87.642206</td>\n",
       "      <td>POINT (-87.6422063127 41.9305785697)</td>\n",
       "      <td>41.946295</td>\n",
       "      <td>-87.654298</td>\n",
       "      <td>POINT (-87.6542980837 41.9462945357)</td>\n",
       "    </tr>\n",
       "    <tr>\n",
       "      <th>4</th>\n",
       "      <td>40c021586099a8bb48795aebbb601384304eb60e</td>\n",
       "      <td>486a31c847d3de20267c610f8de52bdd13c696a8a22bcb...</td>\n",
       "      <td>2013-04-21 02:15:00+00:00</td>\n",
       "      <td>2013-04-21 02:15:00+00:00</td>\n",
       "      <td>360</td>\n",
       "      <td>0.0</td>\n",
       "      <td>1.703107e+10</td>\n",
       "      <td>1.703107e+10</td>\n",
       "      <td>7</td>\n",
       "      <td>7</td>\n",
       "      <td>...</td>\n",
       "      <td>2.0</td>\n",
       "      <td>7.25</td>\n",
       "      <td>Cash</td>\n",
       "      <td>Dispatch Taxi Affiliation</td>\n",
       "      <td>41.929263</td>\n",
       "      <td>-87.635891</td>\n",
       "      <td>POINT (-87.6358909539 41.9292629902)</td>\n",
       "      <td>41.921855</td>\n",
       "      <td>-87.646211</td>\n",
       "      <td>POINT (-87.6462109769 41.9218549112)</td>\n",
       "    </tr>\n",
       "  </tbody>\n",
       "</table>\n",
       "<p>5 rows × 23 columns</p>\n",
       "</div>"
      ],
      "text/plain": [
       "                                 unique_key  \\\n",
       "0  ca2943325bb86524ccb494a82c4361e2e59d94b9   \n",
       "1  65772aeff3599d099f040068b9b7cd4491aea5b6   \n",
       "2  be9aee48bd3bc2e919ad76956c94e0bc420366f1   \n",
       "3  e1a250fcf325056fd51fe87e655f2ee15acd4599   \n",
       "4  40c021586099a8bb48795aebbb601384304eb60e   \n",
       "\n",
       "                                             taxi_id  \\\n",
       "0  4ab868a2a19b95f50f355eb8d0d7638f1912b37f49ebd6...   \n",
       "1  6682944f2b37609761181033253037c05fed4377e8b649...   \n",
       "2  af5b394cb22984f667fc0a9cc30e0277cb9edf50f14747...   \n",
       "3  4de82fc17cb23f745931085fbbb3b4f920550cda576979...   \n",
       "4  486a31c847d3de20267c610f8de52bdd13c696a8a22bcb...   \n",
       "\n",
       "       trip_start_timestamp        trip_end_timestamp  trip_seconds  \\\n",
       "0 2013-04-14 14:45:00+00:00 2013-04-14 15:00:00+00:00           660   \n",
       "1 2013-05-12 20:15:00+00:00 2013-05-12 20:30:00+00:00           240   \n",
       "2 2013-04-17 01:45:00+00:00 2013-04-17 02:00:00+00:00           780   \n",
       "3 2013-04-14 14:30:00+00:00 2013-04-14 14:45:00+00:00           360   \n",
       "4 2013-04-21 02:15:00+00:00 2013-04-21 02:15:00+00:00           360   \n",
       "\n",
       "   trip_miles  pickup_census_tract  dropoff_census_tract  \\\n",
       "0         0.0                  NaN                   NaN   \n",
       "1         0.9                  NaN                   NaN   \n",
       "2         0.0         1.703184e+10          1.703124e+10   \n",
       "3         1.2         1.703107e+10          1.703183e+10   \n",
       "4         0.0         1.703107e+10          1.703107e+10   \n",
       "\n",
       "   pickup_community_area  dropoff_community_area  ...  extras  trip_total  \\\n",
       "0                     14                      14  ...     0.0        6.85   \n",
       "1                     41                      41  ...     1.0        6.05   \n",
       "2                     28                      24  ...     1.5       12.95   \n",
       "3                      7                       6  ...     0.0        6.05   \n",
       "4                      7                       7  ...     2.0        7.25   \n",
       "\n",
       "   payment_type                            company  pickup_latitude  \\\n",
       "0          Cash  Blue Ribbon Taxi Association Inc.        41.968069   \n",
       "1          Cash           Northwest Management LLC        41.794090   \n",
       "2          Cash          Dispatch Taxi Affiliation        41.867902   \n",
       "3          Cash          Dispatch Taxi Affiliation        41.930579   \n",
       "4          Cash          Dispatch Taxi Affiliation        41.929263   \n",
       "\n",
       "  pickup_longitude                       pickup_location  dropoff_latitude  \\\n",
       "0       -87.721559      POINT (-87.7215590627 41.968069)         41.968069   \n",
       "1       -87.592311    POINT (-87.592310855 41.794090253)         41.794090   \n",
       "2       -87.642959  POINT (-87.6429586652 41.8679024175)         41.906026   \n",
       "3       -87.642206  POINT (-87.6422063127 41.9305785697)         41.946295   \n",
       "4       -87.635891  POINT (-87.6358909539 41.9292629902)         41.921855   \n",
       "\n",
       "   dropoff_longitude                      dropoff_location  \n",
       "0         -87.721559      POINT (-87.7215590627 41.968069)  \n",
       "1         -87.592311    POINT (-87.592310855 41.794090253)  \n",
       "2         -87.675312   POINT (-87.6753116216 41.906025969)  \n",
       "3         -87.654298  POINT (-87.6542980837 41.9462945357)  \n",
       "4         -87.646211  POINT (-87.6462109769 41.9218549112)  \n",
       "\n",
       "[5 rows x 23 columns]"
      ]
     },
     "execution_count": 2,
     "metadata": {},
     "output_type": "execute_result"
    }
   ],
   "source": [
    "from google.cloud import bigquery\n",
    "\n",
    "# Create a \"Client\" object\n",
    "client = bigquery.Client()\n",
    "\n",
    "# Construct a reference to the \"chicago_taxi_trips\" dataset\n",
    "dataset_ref = client.dataset(\"chicago_taxi_trips\", project=\"bigquery-public-data\")\n",
    "\n",
    "# API request - fetch the dataset\n",
    "dataset = client.get_dataset(dataset_ref)\n",
    "\n",
    "# Construct a reference to the \"taxi_trips\" table\n",
    "table_ref = dataset_ref.table(\"taxi_trips\")\n",
    "\n",
    "# API request - fetch the table\n",
    "table = client.get_table(table_ref)\n",
    "\n",
    "# Preview the first five lines of the table\n",
    "client.list_rows(table, max_results=5).to_dataframe()"
   ]
  },
  {
   "cell_type": "markdown",
   "id": "4ac6fe01",
   "metadata": {
    "papermill": {
     "duration": 0.004407,
     "end_time": "2024-07-09T03:37:54.610284",
     "exception": false,
     "start_time": "2024-07-09T03:37:54.605877",
     "status": "completed"
    },
    "tags": []
   },
   "source": [
    "# Exercises\n",
    "\n",
    "### 1) How can you predict the demand for taxis?\n",
    "\n",
    "Say you work for a taxi company, and you're interested in predicting the demand for taxis.  Towards this goal, you'd like to create a plot that shows a rolling average of the daily number of taxi trips.  Amend the (partial) query below to return a DataFrame with two columns:\n",
    "- `trip_date` - contains one entry for each date from January 1, 2016, to March 31, 2016.\n",
    "- `avg_num_trips` - shows the average number of daily trips, calculated over a window including the value for the current date, along with the values for the preceding 3 days and the following 3 days, as long as the days fit within the three-month time frame.  For instance, when calculating the value in this column for January 3, 2016, the window will include the number of trips for the preceding 2 days, the current date, and the following 3 days.\n",
    "\n",
    "This query is partially completed for you, and you need only write the part that calculates the `avg_num_trips` column.  Note that this query uses a common table expression (CTE); if you need to review how to use CTEs, you're encouraged to check out [this tutorial](https://www.kaggle.com/dansbecker/as-with) in the [Intro to SQL](https://www.kaggle.com/learn/intro-to-sql) course."
   ]
  },
  {
   "cell_type": "code",
   "execution_count": 3,
   "id": "88fb96f3",
   "metadata": {
    "execution": {
     "iopub.execute_input": "2024-07-09T03:37:54.621651Z",
     "iopub.status.busy": "2024-07-09T03:37:54.620825Z",
     "iopub.status.idle": "2024-07-09T03:37:55.676306Z",
     "shell.execute_reply": "2024-07-09T03:37:55.675320Z"
    },
    "papermill": {
     "duration": 1.064026,
     "end_time": "2024-07-09T03:37:55.678914",
     "exception": false,
     "start_time": "2024-07-09T03:37:54.614888",
     "status": "completed"
    },
    "tags": []
   },
   "outputs": [
    {
     "data": {
      "text/html": [
       "<div>\n",
       "<style scoped>\n",
       "    .dataframe tbody tr th:only-of-type {\n",
       "        vertical-align: middle;\n",
       "    }\n",
       "\n",
       "    .dataframe tbody tr th {\n",
       "        vertical-align: top;\n",
       "    }\n",
       "\n",
       "    .dataframe thead th {\n",
       "        text-align: right;\n",
       "    }\n",
       "</style>\n",
       "<table border=\"1\" class=\"dataframe\">\n",
       "  <thead>\n",
       "    <tr style=\"text-align: right;\">\n",
       "      <th></th>\n",
       "      <th>trip_date</th>\n",
       "      <th>avg_num_trips</th>\n",
       "    </tr>\n",
       "  </thead>\n",
       "  <tbody>\n",
       "    <tr>\n",
       "      <th>0</th>\n",
       "      <td>2016-01-01</td>\n",
       "      <td>73313.750000</td>\n",
       "    </tr>\n",
       "    <tr>\n",
       "      <th>1</th>\n",
       "      <td>2016-01-02</td>\n",
       "      <td>72998.200000</td>\n",
       "    </tr>\n",
       "    <tr>\n",
       "      <th>2</th>\n",
       "      <td>2016-01-03</td>\n",
       "      <td>73452.166667</td>\n",
       "    </tr>\n",
       "    <tr>\n",
       "      <th>3</th>\n",
       "      <td>2016-01-04</td>\n",
       "      <td>74401.428571</td>\n",
       "    </tr>\n",
       "    <tr>\n",
       "      <th>4</th>\n",
       "      <td>2016-01-05</td>\n",
       "      <td>73767.285714</td>\n",
       "    </tr>\n",
       "  </tbody>\n",
       "</table>\n",
       "</div>"
      ],
      "text/plain": [
       "    trip_date  avg_num_trips\n",
       "0  2016-01-01   73313.750000\n",
       "1  2016-01-02   72998.200000\n",
       "2  2016-01-03   73452.166667\n",
       "3  2016-01-04   74401.428571\n",
       "4  2016-01-05   73767.285714"
      ]
     },
     "metadata": {},
     "output_type": "display_data"
    },
    {
     "data": {
      "application/javascript": [
       "parent.postMessage({\"jupyterEvent\": \"custom.exercise_interaction\", \"data\": {\"outcomeType\": 1, \"valueTowardsCompletion\": 0.3333333333333333, \"interactionType\": 1, \"questionType\": 2, \"questionId\": \"1_TaxiDemand\", \"learnToolsVersion\": \"0.3.4\", \"failureMessage\": \"\", \"exceptionClass\": \"\", \"trace\": \"\"}}, \"*\")"
      ],
      "text/plain": [
       "<IPython.core.display.Javascript object>"
      ]
     },
     "metadata": {},
     "output_type": "display_data"
    },
    {
     "data": {
      "text/markdown": [
       "<span style=\"color:#33cc33\">Correct</span>"
      ],
      "text/plain": [
       "Correct"
      ]
     },
     "metadata": {},
     "output_type": "display_data"
    }
   ],
   "source": [
    "# Fill in the blank below\n",
    "avg_num_trips_query = \"\"\"\n",
    "                      WITH trips_by_day AS\n",
    "                      (\n",
    "                          SELECT DATE(trip_start_timestamp) AS trip_date,\n",
    "                              COUNT(*) as num_trips\n",
    "                          FROM `bigquery-public-data.chicago_taxi_trips.taxi_trips`\n",
    "                          WHERE trip_start_timestamp >= '2016-01-01' AND trip_start_timestamp < '2016-04-01'\n",
    "                          GROUP BY trip_date\n",
    "                          ORDER BY trip_date\n",
    "                      ),\n",
    "                      date_range AS\n",
    "                      (\n",
    "                          SELECT DATE_ADD('2016-01-01', INTERVAL n DAY) as trip_date\n",
    "                          FROM UNNEST(GENERATE_ARRAY(0, 90)) as n\n",
    "                      )\n",
    "                      SELECT date_range.trip_date,\n",
    "                          AVG(IFNULL(trips_by_day.num_trips, 0))\n",
    "                          OVER (\n",
    "                              ORDER BY date_range.trip_date\n",
    "                              ROWS BETWEEN 3 PRECEDING AND 3 FOLLOWING\n",
    "                          ) AS avg_num_trips\n",
    "                      FROM date_range\n",
    "                      LEFT JOIN trips_by_day\n",
    "                      ON date_range.trip_date = trips_by_day.trip_date\n",
    "                      ORDER BY date_range.trip_date\n",
    "                      \"\"\"\n",
    "\n",
    "# Check your answer\n",
    "q_1.check()"
   ]
  },
  {
   "cell_type": "code",
   "execution_count": 4,
   "id": "dcb784a9",
   "metadata": {
    "execution": {
     "iopub.execute_input": "2024-07-09T03:37:55.691004Z",
     "iopub.status.busy": "2024-07-09T03:37:55.690612Z",
     "iopub.status.idle": "2024-07-09T03:37:55.695329Z",
     "shell.execute_reply": "2024-07-09T03:37:55.694084Z"
    },
    "papermill": {
     "duration": 0.013483,
     "end_time": "2024-07-09T03:37:55.697701",
     "exception": false,
     "start_time": "2024-07-09T03:37:55.684218",
     "status": "completed"
    },
    "tags": []
   },
   "outputs": [],
   "source": [
    "# Lines below will give you a hint or solution code\n",
    "#q_1.hint()\n",
    "#q_1.solution()"
   ]
  },
  {
   "cell_type": "markdown",
   "id": "b3f73e3c",
   "metadata": {
    "papermill": {
     "duration": 0.004871,
     "end_time": "2024-07-09T03:37:55.707903",
     "exception": false,
     "start_time": "2024-07-09T03:37:55.703032",
     "status": "completed"
    },
    "tags": []
   },
   "source": [
    "### 2) Can you separate and order trips by community area?\n",
    "\n",
    "The query below returns a DataFrame with three columns from the table: `pickup_community_area`, `trip_start_timestamp`, and `trip_end_timestamp`.  \n",
    "\n",
    "Amend the query to return an additional column called `trip_number` which shows the order in which the trips were taken from their respective community areas.  So, the first trip of the day originating from community area 1 should receive a value of 1; the second trip of the day from the same area should receive a value of 2.  Likewise, the first trip of the day from community area 2 should receive a value of 1, and so on.\n",
    "\n",
    "Note that there are many numbering functions that can be used to solve this problem (depending on how you want to deal with trips that started at the same time from the same community area); to answer this question, please use the **RANK()** function."
   ]
  },
  {
   "cell_type": "code",
   "execution_count": 5,
   "id": "c08df8c8",
   "metadata": {
    "execution": {
     "iopub.execute_input": "2024-07-09T03:37:55.720054Z",
     "iopub.status.busy": "2024-07-09T03:37:55.719613Z",
     "iopub.status.idle": "2024-07-09T03:38:00.446936Z",
     "shell.execute_reply": "2024-07-09T03:38:00.445877Z"
    },
    "papermill": {
     "duration": 4.736075,
     "end_time": "2024-07-09T03:38:00.449225",
     "exception": false,
     "start_time": "2024-07-09T03:37:55.713150",
     "status": "completed"
    },
    "tags": []
   },
   "outputs": [
    {
     "data": {
      "text/html": [
       "<div>\n",
       "<style scoped>\n",
       "    .dataframe tbody tr th:only-of-type {\n",
       "        vertical-align: middle;\n",
       "    }\n",
       "\n",
       "    .dataframe tbody tr th {\n",
       "        vertical-align: top;\n",
       "    }\n",
       "\n",
       "    .dataframe thead th {\n",
       "        text-align: right;\n",
       "    }\n",
       "</style>\n",
       "<table border=\"1\" class=\"dataframe\">\n",
       "  <thead>\n",
       "    <tr style=\"text-align: right;\">\n",
       "      <th></th>\n",
       "      <th>pickup_community_area</th>\n",
       "      <th>trip_start_timestamp</th>\n",
       "      <th>trip_end_timestamp</th>\n",
       "      <th>trip_number</th>\n",
       "    </tr>\n",
       "  </thead>\n",
       "  <tbody>\n",
       "    <tr>\n",
       "      <th>0</th>\n",
       "      <td>25.0</td>\n",
       "      <td>2013-10-03 00:30:00+00:00</td>\n",
       "      <td>2013-10-03 00:30:00+00:00</td>\n",
       "      <td>1</td>\n",
       "    </tr>\n",
       "    <tr>\n",
       "      <th>1</th>\n",
       "      <td>25.0</td>\n",
       "      <td>2013-10-03 02:45:00+00:00</td>\n",
       "      <td>2013-10-03 03:00:00+00:00</td>\n",
       "      <td>2</td>\n",
       "    </tr>\n",
       "    <tr>\n",
       "      <th>2</th>\n",
       "      <td>25.0</td>\n",
       "      <td>2013-10-03 04:45:00+00:00</td>\n",
       "      <td>2013-10-03 05:15:00+00:00</td>\n",
       "      <td>3</td>\n",
       "    </tr>\n",
       "    <tr>\n",
       "      <th>3</th>\n",
       "      <td>25.0</td>\n",
       "      <td>2013-10-03 06:15:00+00:00</td>\n",
       "      <td>2013-10-03 06:45:00+00:00</td>\n",
       "      <td>4</td>\n",
       "    </tr>\n",
       "    <tr>\n",
       "      <th>4</th>\n",
       "      <td>25.0</td>\n",
       "      <td>2013-10-03 06:45:00+00:00</td>\n",
       "      <td>2013-10-03 07:00:00+00:00</td>\n",
       "      <td>5</td>\n",
       "    </tr>\n",
       "  </tbody>\n",
       "</table>\n",
       "</div>"
      ],
      "text/plain": [
       "   pickup_community_area      trip_start_timestamp        trip_end_timestamp  \\\n",
       "0                   25.0 2013-10-03 00:30:00+00:00 2013-10-03 00:30:00+00:00   \n",
       "1                   25.0 2013-10-03 02:45:00+00:00 2013-10-03 03:00:00+00:00   \n",
       "2                   25.0 2013-10-03 04:45:00+00:00 2013-10-03 05:15:00+00:00   \n",
       "3                   25.0 2013-10-03 06:15:00+00:00 2013-10-03 06:45:00+00:00   \n",
       "4                   25.0 2013-10-03 06:45:00+00:00 2013-10-03 07:00:00+00:00   \n",
       "\n",
       "   trip_number  \n",
       "0            1  \n",
       "1            2  \n",
       "2            3  \n",
       "3            4  \n",
       "4            5  "
      ]
     },
     "metadata": {},
     "output_type": "display_data"
    },
    {
     "data": {
      "application/javascript": [
       "parent.postMessage({\"jupyterEvent\": \"custom.exercise_interaction\", \"data\": {\"outcomeType\": 1, \"valueTowardsCompletion\": 0.3333333333333333, \"interactionType\": 1, \"questionType\": 2, \"questionId\": \"2_CommunityArea\", \"learnToolsVersion\": \"0.3.4\", \"failureMessage\": \"\", \"exceptionClass\": \"\", \"trace\": \"\"}}, \"*\")"
      ],
      "text/plain": [
       "<IPython.core.display.Javascript object>"
      ]
     },
     "metadata": {},
     "output_type": "display_data"
    },
    {
     "data": {
      "text/markdown": [
       "<span style=\"color:#33cc33\">Correct</span>"
      ],
      "text/plain": [
       "Correct"
      ]
     },
     "metadata": {},
     "output_type": "display_data"
    }
   ],
   "source": [
    "# Amend the query below\n",
    "trip_number_query = \"\"\"\n",
    "                    SELECT pickup_community_area,\n",
    "                        trip_start_timestamp,\n",
    "                        trip_end_timestamp,\n",
    "                        RANK()\n",
    "                            OVER (\n",
    "                                  PARTITION BY pickup_community_area\n",
    "                                  ORDER BY trip_start_timestamp\n",
    "                                 ) AS trip_number\n",
    "                    FROM `bigquery-public-data.chicago_taxi_trips.taxi_trips`\n",
    "                    WHERE DATE(trip_start_timestamp) = '2013-10-03' \n",
    "                    \"\"\"\n",
    "\n",
    "# Check your answer\n",
    "q_2.check()"
   ]
  },
  {
   "cell_type": "code",
   "execution_count": 6,
   "id": "7c1dbf0c",
   "metadata": {
    "execution": {
     "iopub.execute_input": "2024-07-09T03:38:00.462766Z",
     "iopub.status.busy": "2024-07-09T03:38:00.462025Z",
     "iopub.status.idle": "2024-07-09T03:38:00.466638Z",
     "shell.execute_reply": "2024-07-09T03:38:00.465496Z"
    },
    "papermill": {
     "duration": 0.014184,
     "end_time": "2024-07-09T03:38:00.469060",
     "exception": false,
     "start_time": "2024-07-09T03:38:00.454876",
     "status": "completed"
    },
    "tags": []
   },
   "outputs": [],
   "source": [
    "# Lines below will give you a hint or solution code\n",
    "#q_2.hint()\n",
    "#q_2.solution()"
   ]
  },
  {
   "cell_type": "markdown",
   "id": "89099e6a",
   "metadata": {
    "papermill": {
     "duration": 0.005461,
     "end_time": "2024-07-09T03:38:00.480164",
     "exception": false,
     "start_time": "2024-07-09T03:38:00.474703",
     "status": "completed"
    },
    "tags": []
   },
   "source": [
    "### 3) How much time elapses between trips?\n",
    "\n",
    "The (partial) query in the code cell below shows, for each trip in the selected time frame, the corresponding `taxi_id`, `trip_start_timestamp`, and `trip_end_timestamp`. \n",
    "\n",
    "Your task in this exercise is to edit the query to include an additional `prev_break` column that shows the length of the break (in minutes) that the driver had before each trip started (this corresponds to the time between `trip_start_timestamp` of the current trip and `trip_end_timestamp` of the previous trip).  Partition the calculation by `taxi_id`, and order the results within each partition by `trip_start_timestamp`.\n",
    "\n",
    "Some sample results are shown below, where all rows correspond to the same driver (or `taxi_id`).  Take the time now to make sure that the values in the `prev_break` column make sense to you!\n",
    "\n",
    "![first_commands](https://storage.googleapis.com/kaggle-media/learn/images/qjvQzg8.png)\n",
    "\n",
    "Note that the first trip of the day for each driver should have a value of **NaN** (not a number) in the `prev_break` column."
   ]
  },
  {
   "cell_type": "code",
   "execution_count": 7,
   "id": "58c9c712",
   "metadata": {
    "execution": {
     "iopub.execute_input": "2024-07-09T03:38:00.493646Z",
     "iopub.status.busy": "2024-07-09T03:38:00.493249Z",
     "iopub.status.idle": "2024-07-09T03:38:08.592887Z",
     "shell.execute_reply": "2024-07-09T03:38:08.591872Z"
    },
    "papermill": {
     "duration": 8.109045,
     "end_time": "2024-07-09T03:38:08.595272",
     "exception": false,
     "start_time": "2024-07-09T03:38:00.486227",
     "status": "completed"
    },
    "tags": []
   },
   "outputs": [
    {
     "data": {
      "text/html": [
       "<div>\n",
       "<style scoped>\n",
       "    .dataframe tbody tr th:only-of-type {\n",
       "        vertical-align: middle;\n",
       "    }\n",
       "\n",
       "    .dataframe tbody tr th {\n",
       "        vertical-align: top;\n",
       "    }\n",
       "\n",
       "    .dataframe thead th {\n",
       "        text-align: right;\n",
       "    }\n",
       "</style>\n",
       "<table border=\"1\" class=\"dataframe\">\n",
       "  <thead>\n",
       "    <tr style=\"text-align: right;\">\n",
       "      <th></th>\n",
       "      <th>taxi_id</th>\n",
       "      <th>trip_start_timestamp</th>\n",
       "      <th>trip_end_timestamp</th>\n",
       "      <th>prev_break</th>\n",
       "    </tr>\n",
       "  </thead>\n",
       "  <tbody>\n",
       "    <tr>\n",
       "      <th>0</th>\n",
       "      <td>0602c4dcde4b0fa95e24da18797128a90565512392fffd...</td>\n",
       "      <td>2013-10-03 07:45:00+00:00</td>\n",
       "      <td>2013-10-03 08:00:00+00:00</td>\n",
       "      <td>165.0</td>\n",
       "    </tr>\n",
       "    <tr>\n",
       "      <th>1</th>\n",
       "      <td>0602c4dcde4b0fa95e24da18797128a90565512392fffd...</td>\n",
       "      <td>2013-10-03 21:15:00+00:00</td>\n",
       "      <td>2013-10-03 21:45:00+00:00</td>\n",
       "      <td>240.0</td>\n",
       "    </tr>\n",
       "    <tr>\n",
       "      <th>2</th>\n",
       "      <td>1164567f51480842b6e75afd1b233319eab63fc2b9e694...</td>\n",
       "      <td>2013-10-03 14:45:00+00:00</td>\n",
       "      <td>2013-10-03 15:00:00+00:00</td>\n",
       "      <td>825.0</td>\n",
       "    </tr>\n",
       "    <tr>\n",
       "      <th>3</th>\n",
       "      <td>1164567f51480842b6e75afd1b233319eab63fc2b9e694...</td>\n",
       "      <td>2013-10-03 22:00:00+00:00</td>\n",
       "      <td>2013-10-03 22:30:00+00:00</td>\n",
       "      <td>180.0</td>\n",
       "    </tr>\n",
       "    <tr>\n",
       "      <th>4</th>\n",
       "      <td>2130bc5fd239a4e3b304662424fb4cc7db0ca7abf78cc5...</td>\n",
       "      <td>2013-10-03 16:45:00+00:00</td>\n",
       "      <td>2013-10-03 16:45:00+00:00</td>\n",
       "      <td>180.0</td>\n",
       "    </tr>\n",
       "  </tbody>\n",
       "</table>\n",
       "</div>"
      ],
      "text/plain": [
       "                                             taxi_id  \\\n",
       "0  0602c4dcde4b0fa95e24da18797128a90565512392fffd...   \n",
       "1  0602c4dcde4b0fa95e24da18797128a90565512392fffd...   \n",
       "2  1164567f51480842b6e75afd1b233319eab63fc2b9e694...   \n",
       "3  1164567f51480842b6e75afd1b233319eab63fc2b9e694...   \n",
       "4  2130bc5fd239a4e3b304662424fb4cc7db0ca7abf78cc5...   \n",
       "\n",
       "       trip_start_timestamp        trip_end_timestamp  prev_break  \n",
       "0 2013-10-03 07:45:00+00:00 2013-10-03 08:00:00+00:00       165.0  \n",
       "1 2013-10-03 21:15:00+00:00 2013-10-03 21:45:00+00:00       240.0  \n",
       "2 2013-10-03 14:45:00+00:00 2013-10-03 15:00:00+00:00       825.0  \n",
       "3 2013-10-03 22:00:00+00:00 2013-10-03 22:30:00+00:00       180.0  \n",
       "4 2013-10-03 16:45:00+00:00 2013-10-03 16:45:00+00:00       180.0  "
      ]
     },
     "metadata": {},
     "output_type": "display_data"
    },
    {
     "data": {
      "application/javascript": [
       "parent.postMessage({\"jupyterEvent\": \"custom.exercise_interaction\", \"data\": {\"outcomeType\": 1, \"valueTowardsCompletion\": 0.3333333333333333, \"interactionType\": 1, \"questionType\": 2, \"questionId\": \"3_BreakTime\", \"learnToolsVersion\": \"0.3.4\", \"failureMessage\": \"\", \"exceptionClass\": \"\", \"trace\": \"\"}}, \"*\")"
      ],
      "text/plain": [
       "<IPython.core.display.Javascript object>"
      ]
     },
     "metadata": {},
     "output_type": "display_data"
    },
    {
     "data": {
      "text/markdown": [
       "<span style=\"color:#33cc33\">Correct</span>"
      ],
      "text/plain": [
       "Correct"
      ]
     },
     "metadata": {},
     "output_type": "display_data"
    }
   ],
   "source": [
    "# Fill in the blanks below\n",
    "break_time_query = \"\"\"\n",
    "                   SELECT taxi_id,\n",
    "                       trip_start_timestamp,\n",
    "                       trip_end_timestamp,\n",
    "                       TIMESTAMP_DIFF(\n",
    "                           trip_start_timestamp, \n",
    "                           LAG(trip_end_timestamp)  \n",
    "                               OVER (\n",
    "                                    PARTITION BY taxi_id \n",
    "                                    ORDER BY trip_start_timestamp), \n",
    "                           MINUTE) as prev_break\n",
    "                   FROM `bigquery-public-data.chicago_taxi_trips.taxi_trips`\n",
    "                   WHERE DATE(trip_start_timestamp) = '2013-10-03' \n",
    "                   \"\"\"\n",
    "\n",
    "# Check your answer\n",
    "q_3.check()"
   ]
  },
  {
   "cell_type": "code",
   "execution_count": 8,
   "id": "33a265bb",
   "metadata": {
    "execution": {
     "iopub.execute_input": "2024-07-09T03:38:08.609201Z",
     "iopub.status.busy": "2024-07-09T03:38:08.608786Z",
     "iopub.status.idle": "2024-07-09T03:38:08.613528Z",
     "shell.execute_reply": "2024-07-09T03:38:08.612490Z"
    },
    "papermill": {
     "duration": 0.014348,
     "end_time": "2024-07-09T03:38:08.615735",
     "exception": false,
     "start_time": "2024-07-09T03:38:08.601387",
     "status": "completed"
    },
    "tags": []
   },
   "outputs": [],
   "source": [
    "# Lines below will give you a hint or solution code\n",
    "#q_3.hint()\n",
    "#q_3.solution()"
   ]
  },
  {
   "cell_type": "markdown",
   "id": "80db0c47",
   "metadata": {
    "papermill": {
     "duration": 0.006526,
     "end_time": "2024-07-09T03:38:08.628439",
     "exception": false,
     "start_time": "2024-07-09T03:38:08.621913",
     "status": "completed"
    },
    "tags": []
   },
   "source": [
    "# Keep going\n",
    "\n",
    "Move on to learn how to query **[nested and repeated data](https://www.kaggle.com/alexisbcook/nested-and-repeated-data)**."
   ]
  },
  {
   "cell_type": "markdown",
   "id": "f8b327db",
   "metadata": {
    "papermill": {
     "duration": 0.005991,
     "end_time": "2024-07-09T03:38:08.640904",
     "exception": false,
     "start_time": "2024-07-09T03:38:08.634913",
     "status": "completed"
    },
    "tags": []
   },
   "source": [
    "---\n",
    "\n",
    "\n",
    "\n",
    "\n",
    "*Have questions or comments? Visit the [course discussion forum](https://www.kaggle.com/learn/advanced-sql/discussion) to chat with other learners.*"
   ]
  }
 ],
 "metadata": {
  "kaggle": {
   "accelerator": "none",
   "dataSources": [
    {
     "datasetId": 22219,
     "sourceId": 28536,
     "sourceType": "datasetVersion"
    }
   ],
   "isGpuEnabled": false,
   "isInternetEnabled": true,
   "language": "python",
   "sourceType": "notebook"
  },
  "kernelspec": {
   "display_name": "Python 3",
   "language": "python",
   "name": "python3"
  },
  "language_info": {
   "codemirror_mode": {
    "name": "ipython",
    "version": 3
   },
   "file_extension": ".py",
   "mimetype": "text/x-python",
   "name": "python",
   "nbconvert_exporter": "python",
   "pygments_lexer": "ipython3",
   "version": "3.10.13"
  },
  "papermill": {
   "default_parameters": {},
   "duration": 38.143153,
   "end_time": "2024-07-09T03:38:09.369491",
   "environment_variables": {},
   "exception": null,
   "input_path": "__notebook__.ipynb",
   "output_path": "__notebook__.ipynb",
   "parameters": {},
   "start_time": "2024-07-09T03:37:31.226338",
   "version": "2.5.0"
  }
 },
 "nbformat": 4,
 "nbformat_minor": 5
}
